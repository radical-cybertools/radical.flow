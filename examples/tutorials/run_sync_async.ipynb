{
 "cells": [
  {
   "cell_type": "markdown",
   "id": "259e3b40-18bd-4ed8-b4e4-fa69dd5c3d49",
   "metadata": {},
   "source": [
    "# This notebook demonstrates how to execute async/sync workflows with Radical and Dask execution backends."
   ]
  },
  {
   "cell_type": "markdown",
   "id": "b087e155-9214-4efb-b36b-8ad45f0e1b88",
   "metadata": {},
   "source": [
    "### Sync workflows with Dask\n",
    "We will execute 5 simple workflows in sync approach (sequentially) using Dask Distributed execution backend."
   ]
  },
  {
   "cell_type": "code",
   "execution_count": null,
   "id": "53c7b09b-92bd-44c0-adc8-d3679863748c",
   "metadata": {},
   "outputs": [
    {
     "name": "stdout",
     "output_type": "stream",
     "text": [
      "env: FLOW_JUPYTER_ASYNC=FALSE\n",
      "Starting workflow 0 at 1744309456.756387\n",
      "Thu Apr 10 06:24:17 PM UTC 2025\n",
      "\n",
      "Workflow 0 completed at 1744309457.3185828\n",
      "\n",
      "Starting workflow 1 at 1744309457.318625\n",
      "Thu Apr 10 06:24:18 PM UTC 2025\n",
      "\n",
      "Workflow 1 completed at 1744309458.297442\n",
      "\n",
      "Starting workflow 2 at 1744309458.2974577\n",
      "Thu Apr 10 06:24:19 PM UTC 2025\n",
      "\n",
      "Workflow 2 completed at 1744309459.3037918\n",
      "\n",
      "Starting workflow 3 at 1744309459.303816\n",
      "Thu Apr 10 06:24:20 PM UTC 2025\n",
      "\n",
      "Workflow 3 completed at 1744309460.3250942\n",
      "\n",
      "Starting workflow 4 at 1744309460.3251545\n",
      "Thu Apr 10 06:24:21 PM UTC 2025\n",
      "\n",
      "Workflow 4 completed at 1744309461.327662\n",
      "\n",
      "Shutdown is triggered, terminating the resources gracefully\n"
     ]
    }
   ],
   "source": [
    "%env FLOW_JUPYTER_ASYNC=FALSE\n",
    "import time\n",
    "\n",
    "from radical.flow import WorkflowEngine\n",
    "from radical.flow import DaskExecutionBackend\n",
    "\n",
    "backend = DaskExecutionBackend({'n_workers': 2,\n",
    "                               'threads_per_worker': 1})\n",
    "\n",
    "flow = WorkflowEngine(backend=backend)\n",
    "\n",
    "@flow.executable_task\n",
    "def task1(*args):\n",
    "    return '/bin/date'\n",
    "\n",
    "@flow.executable_task\n",
    "def task2(*args):\n",
    "    return '/bin/date'\n",
    "\n",
    "@flow.executable_task\n",
    "def task3(*args):\n",
    "    return '/bin/date'\n",
    "\n",
    "def run_wf(wf_id):\n",
    "\n",
    "    print(f'Starting workflow {wf_id} at {time.time()}')\n",
    "    t3 = task3(task1(), task2())\n",
    "    print(t3.result())\n",
    "    print (f'Workflow {wf_id} completed at {time.time()}\\n')\n",
    "\n",
    "for i in range(5):\n",
    "    run_wf(i)\n",
    "\n",
    "backend.shutdown()"
   ]
  },
  {
   "cell_type": "markdown",
   "id": "5e76bbe4-caef-4d2c-ac1c-debc71b8b7a2",
   "metadata": {},
   "source": [
    "### Async workflows with RadicalPilot \n",
    "We will execute 5 workflows in async approach (in prallel) using execution backend.\n",
    "Note that, you can use any other backends with the same approach like: ThreadPool, PorcessPool, or DaskParallel"
   ]
  },
  {
   "cell_type": "code",
   "execution_count": null,
   "id": "4e7a2598-9651-4433-9708-a8eaf15f3b68",
   "metadata": {},
   "outputs": [
    {
     "name": "stdout",
     "output_type": "stream",
     "text": [
      "env: FLOW_JUPYTER_ASYNC=TRUE\n",
      "Resource backend started successfully\n",
      "\n",
      "Starting workflow 0 at 1744309643.3847566\n",
      "Starting workflow 1 at 1744309643.385239\n",
      "task4 from 1 got result I got executed at\n",
      "Thu Apr 10 06:27:38 PM UTC 2025\n",
      "\n",
      "submitted task5\n",
      "task4 from 0 got result I got executed at\n",
      "Thu Apr 10 06:27:38 PM UTC 2025\n",
      "\n",
      "submitted task5\n",
      "Workflow 0 completed at 1744309659.005562\n",
      "\n",
      "Workflow 1 completed at 1744309659.005703\n",
      "\n",
      "Shutdown is triggered, terminating the resources gracefully\n"
     ]
    }
   ],
   "source": [
    "%env FLOW_JUPYTER_ASYNC=TRUE\n",
    "import time\n",
    "import asyncio\n",
    "\n",
    "from radical.flow import WorkflowEngine\n",
    "from radical.flow import RadicalExecutionBackend\n",
    "\n",
    "\n",
    "async def main():\n",
    "    backend = RadicalExecutionBackend({'resource': 'local.localhost'})\n",
    "    flow = WorkflowEngine(backend=backend)\n",
    "    \n",
    "    @flow.executable_task\n",
    "    async def task1(*args):\n",
    "        return '/bin/echo \"I got executed at\" && /bin/date'\n",
    "    \n",
    "    @flow.executable_task\n",
    "    async def task2(*args):\n",
    "        return '/bin/echo \"I got executed at\" && /bin/date'\n",
    "    \n",
    "    @flow.executable_task\n",
    "    async def task3(*args):\n",
    "        return '/bin/echo \"I got executed at\" && /bin/date'\n",
    "    \n",
    "    @flow.executable_task\n",
    "    async def task4(*args):\n",
    "        return '/bin/echo \"I got executed at\" && /bin/date'\n",
    "    \n",
    "    @flow.executable_task\n",
    "    async def task5(*args):\n",
    "        return '/bin/echo \"I got executed at\" && /bin/date'\n",
    "    \n",
    "    async def run_wf(wf_id):\n",
    "        print(f'Starting workflow {wf_id} at {time.time()}')\n",
    "        t1 = task1()\n",
    "        t2 = task2(t1)\n",
    "        t3 = task3(t1, t2)\n",
    "        t4 = task4(t3)\n",
    "\n",
    "        res = await t4\n",
    "        if res:\n",
    "            print(f'task4 from {wf_id} got result {res}')\n",
    "            t5 = task5()\n",
    "            print('submitted task5')\n",
    "            await t5\n",
    "\n",
    "        print (f'Workflow {wf_id} completed at {time.time()}\\n')\n",
    "\n",
    "    # Run workflows concurrently\n",
    "    results = await asyncio.gather(*[run_wf(i) for i in range(2)])\n",
    "\n",
    "    backend.shutdown()\n",
    "\n",
    "await main()"
   ]
  }
 ],
 "metadata": {
  "kernelspec": {
   "display_name": "Python 3 (ipykernel)",
   "language": "python",
   "name": "python3"
  },
  "language_info": {
   "codemirror_mode": {
    "name": "ipython",
    "version": 3
   },
   "file_extension": ".py",
   "mimetype": "text/x-python",
   "name": "python",
   "nbconvert_exporter": "python",
   "pygments_lexer": "ipython3",
   "version": "3.12.3"
  }
 },
 "nbformat": 4,
 "nbformat_minor": 5
}
